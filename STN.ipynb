{
 "cells": [
  {
   "cell_type": "code",
   "execution_count": 1,
   "metadata": {
    "scrolled": true
   },
   "outputs": [
    {
     "name": "stderr",
     "output_type": "stream",
     "text": [
      "/Users/tommasoaldinucci/miniconda2/lib/python2.7/site-packages/h5py/__init__.py:36: FutureWarning: Conversion of the second argument of issubdtype from `float` to `np.floating` is deprecated. In future, it will be treated as `np.float64 == np.dtype(float).type`.\n",
      "  from ._conv import register_converters as _register_converters\n",
      "Using TensorFlow backend.\n"
     ]
    }
   ],
   "source": [
    "%matplotlib inline\n",
    "#-----Dependencies-----#\n",
    "\n",
    "import matplotlib.pyplot as plt\n",
    "import numpy as np\n",
    "import keras\n",
    "np.random.seed(1337)  # for reproducibility\n",
    "from keras.models import Sequential\n",
    "from keras.layers.core import Dense, Dropout, Activation, Flatten\n",
    "from keras.layers.convolutional import Convolution2D, MaxPooling2D\n",
    "from keras.optimizers import Adam, SGD\n",
    "import keras.backend as K\n",
    "from spatial_transformer import SpatialTransformer\n",
    "import cv2\n",
    "import random\n",
    "\n",
    "#-----Define global variables-----#\n",
    "batch_size = 64\n",
    "photo_width = 320\n",
    "photo_height = 240"
   ]
  },
  {
   "cell_type": "code",
   "execution_count": 2,
   "metadata": {},
   "outputs": [
    {
     "name": "stdout",
     "output_type": "stream",
     "text": [
      "_________________________________________________________________\n",
      "Layer (type)                 Output Shape              Param #   \n",
      "=================================================================\n",
      "conv2d_1 (Conv2D)            (None, 240, 320, 20)      520       \n",
      "_________________________________________________________________\n",
      "activation_1 (Activation)    (None, 240, 320, 20)      0         \n",
      "_________________________________________________________________\n",
      "max_pooling2d_1 (MaxPooling2 (None, 120, 160, 20)      0         \n",
      "_________________________________________________________________\n",
      "conv2d_2 (Conv2D)            (None, 120, 160, 20)      10020     \n",
      "_________________________________________________________________\n",
      "activation_2 (Activation)    (None, 120, 160, 20)      0         \n",
      "_________________________________________________________________\n",
      "max_pooling2d_2 (MaxPooling2 (None, 60, 80, 20)        0         \n",
      "_________________________________________________________________\n",
      "conv2d_3 (Conv2D)            (None, 60, 80, 20)        10020     \n",
      "_________________________________________________________________\n",
      "activation_3 (Activation)    (None, 60, 80, 20)        0         \n",
      "_________________________________________________________________\n",
      "max_pooling2d_3 (MaxPooling2 (None, 30, 40, 20)        0         \n",
      "_________________________________________________________________\n",
      "flatten_1 (Flatten)          (None, 24000)             0         \n",
      "_________________________________________________________________\n",
      "dense_1 (Dense)              (None, 9)                 216009    \n",
      "_________________________________________________________________\n",
      "activation_4 (Activation)    (None, 9)                 0         \n",
      "=================================================================\n",
      "Total params: 236,569\n",
      "Trainable params: 236,569\n",
      "Non-trainable params: 0\n",
      "_________________________________________________________________\n",
      "_________________________________________________________________\n",
      "Layer (type)                 Output Shape              Param #   \n",
      "=================================================================\n",
      "spatial_transformer_1 (Spati (None, 240, 320, 1)       236569    \n",
      "=================================================================\n",
      "Total params: 236,569\n",
      "Trainable params: 236,569\n",
      "Non-trainable params: 0\n",
      "_________________________________________________________________\n"
     ]
    }
   ],
   "source": [
    "#-------BUILDING THE NETWORK-------#\n",
    "\n",
    "input_shape = (photo_height, photo_width, 1)\n",
    "\n",
    "# initial weights for last layer of localisation\n",
    "#----At the beginning, we start with the identity transformation----#\n",
    "b = np.zeros((3, 3), dtype='float32')\n",
    "b[0, 0] = 1\n",
    "b[1, 1] = 1\n",
    "b[2, 2] = 1\n",
    "W = np.zeros((int(photo_width/8)*int(photo_height/8)*20, 9), dtype='float32')\n",
    "weights = [W, b.flatten()]\n",
    "\n",
    "\n",
    "#-----We use just linear activation (identity function) to avoid non linear behavior of the CNN----#\n",
    "#-----This is \n",
    "\n",
    "#-----First define the Localisation Network which will output 9 parameters for the projective transformation-----#\n",
    "locnet = Sequential()\n",
    "locnet.add(Convolution2D(20, (5, 5), input_shape = input_shape, padding='same'))\n",
    "locnet.add(Activation('linear'))\n",
    "locnet.add(MaxPooling2D(pool_size=(2,2)))\n",
    "locnet.add(Convolution2D(20, (5, 5), padding='same'))\n",
    "locnet.add(Activation('linear'))\n",
    "locnet.add(MaxPooling2D(pool_size=(2,2)))\n",
    "locnet.add(Convolution2D(20, (5, 5), padding='same'))\n",
    "locnet.add(Activation('linear'))\n",
    "locnet.add(MaxPooling2D(pool_size=(2,2)))\n",
    "locnet.add(Flatten())\n",
    "locnet.add(Dense(9, weights=weights))\n",
    "locnet.add(Activation('linear'))\n",
    "\n",
    "\n",
    "#-----Now we add a STN layer which will output the transformed image-----#\n",
    "transf1 = Sequential()\n",
    "transf1.add(SpatialTransformer(localization_net=locnet, output_size=(photo_height, photo_width, 1), input_shape=input_shape))\n",
    "transf1.compile(loss='mae', optimizer='adam', metrics=['mae'])\n",
    "locnet.summary()\n",
    "transf1.summary()"
   ]
  },
  {
   "cell_type": "code",
   "execution_count": 3,
   "metadata": {},
   "outputs": [],
   "source": [
    "transf1.load_weights('weights.h5')"
   ]
  },
  {
   "cell_type": "code",
   "execution_count": 4,
   "metadata": {},
   "outputs": [],
   "source": [
    "def threshhold_data(x, thresh):\n",
    "    im = x\n",
    "    im[im < thresh] = 0\n",
    "    return im\n",
    "\n",
    "\n",
    "#-----Read the testset-----#\n",
    "def read_test_set(folderDatasetPath):\n",
    "    import os\n",
    "    \n",
    "    x_set = []\n",
    "    y_set = []\n",
    "    lower = 35000\n",
    "    for root, dirs, files in os.walk(folderDatasetPath, topdown=False): \n",
    "        for name in files:\n",
    "            \n",
    "            file = os.path.join(root, name)\n",
    "            if file.lower().endswith(('.png', '.jpg', '.jpeg')): \n",
    "                \n",
    "                x_r = cv2.imread(file, -1)\n",
    "                x = cv2.resize(x_r, dsize=(photo_width,photo_height), interpolation=cv2.INTER_NEAREST)\n",
    "                x = np.max(x)-x\n",
    "                l = np.max(x)-300\n",
    "                if l<lower:\n",
    "                    lower = l\n",
    "                x = threshhold_data(x, l)\n",
    "                x_set.append(x)\n",
    "                    \n",
    "    \n",
    "    \n",
    "    #---Prepare the data normalizing in [0,1]. To the background is associated 0 (black), to the foreground 1---#\n",
    "    #---We normalize respect to the max value of intensity (depth) of the whole dataset to preserve the depth information in each photo---#\n",
    "    X_test = np.array(x_set).reshape((-1, photo_height, photo_width, 1)).astype('float32')\n",
    "    X_test = (X_test - lower).astype('float32')/(np.max(X_test)-lower).astype('float32')\n",
    "    X_test[X_test < 0] = 0\n",
    "    \n",
    "    return np.array(X_test)\n",
    "\n",
    "\n"
   ]
  },
  {
   "cell_type": "code",
   "execution_count": 5,
   "metadata": {},
   "outputs": [
    {
     "name": "stdout",
     "output_type": "stream",
     "text": [
      "Shape of the test tensor:  (984, 240, 320, 1)\n"
     ]
    }
   ],
   "source": [
    "X_test = read_test_set(\"dataset/test_set\")\n",
    "print \"Shape of the test tensor: \", X_test.shape"
   ]
  },
  {
   "cell_type": "code",
   "execution_count": 54,
   "metadata": {},
   "outputs": [
    {
     "data": {
      "image/png": "[encoded data removed]",
      "text/plain": [
       "<Figure size 432x288 with 1 Axes>"
      ]
     },
     "metadata": {},
     "output_type": "display_data"
    },
    {
     "name": "stdout",
     "output_type": "stream",
     "text": [
      "0.0 0.65762\n",
      "1.0\n"
     ]
    }
   ],
   "source": [
    "p_index = 250\n",
    "plt.imshow(X_test[p_index].reshape((photo_height,photo_width)), cmap='gray', vmin=0, vmax=1)\n",
    "plt.show()\n",
    "print np.min(X_test[p_index]), np.max(X_test[p_index])\n",
    "print np.max(X_test)"
   ]
  },
  {
   "cell_type": "code",
   "execution_count": 36,
   "metadata": {
    "scrolled": false
   },
   "outputs": [],
   "source": [
    "predicts = transf1.predict(X_test)"
   ]
  },
  {
   "cell_type": "code",
   "execution_count": 55,
   "metadata": {
    "scrolled": false
   },
   "outputs": [
    {
     "data": {
      "image/png": "[encoded data removed]",
      "text/plain": [
       "<Figure size 432x288 with 1 Axes>"
      ]
     },
     "metadata": {},
     "output_type": "display_data"
    },
    {
     "name": "stdout",
     "output_type": "stream",
     "text": [
      "0.0 0.63997865\n"
     ]
    }
   ],
   "source": [
    "plt.imshow(predicts[p_index].reshape((photo_height,photo_width)), cmap='gray', vmin=0, vmax=1)\n",
    "plt.show()\n",
    "print np.min(predicts[p_index]), np.max(predicts[p_index])"
   ]
  },
  {
   "cell_type": "code",
   "execution_count": null,
   "metadata": {},
   "outputs": [],
   "source": [
    "X1 = transf1.input\n",
    "Y1 = transf1.layers[0].output\n",
    "stn = K.function([X1], [Y1])\n"
   ]
  },
  {
   "cell_type": "code",
   "execution_count": null,
   "metadata": {},
   "outputs": [],
   "source": [
    "test = X\n",
    "res1 = np.squeeze(np.array(stn([test])))"
   ]
  },
  {
   "cell_type": "code",
   "execution_count": null,
   "metadata": {},
   "outputs": [],
   "source": [
    "im = res1[100]\n",
    "print np.min(im), np.max(im)\n",
    "plt.imshow(im.reshape((240,320)), cmap='gray', vmin=0, vmax=1)\n",
    "plt.show"
   ]
  },
  {
   "cell_type": "code",
   "execution_count": null,
   "metadata": {
    "scrolled": true
   },
   "outputs": [],
   "source": [
    "print np.min(X[800]), np.max(X[800])\n",
    "print np.min(im), np.max(im)"
   ]
  },
  {
   "cell_type": "code",
   "execution_count": null,
   "metadata": {},
   "outputs": [],
   "source": [
    "init = transf1.layers[0].locnet.input\n",
    "output = transf1.layers[0].locnet.output\n",
    "theta = K.function([init], [output])\n",
    "\n",
    "#test = X[0:1000]\n",
    "#res1 = np.squeeze(np.array(stn([test])))\n",
    "transf_params = np.squeeze(np.array(theta([test])))\n",
    "#print transf_params.shape\n"
   ]
  },
  {
   "cell_type": "code",
   "execution_count": null,
   "metadata": {},
   "outputs": [],
   "source": [
    "print transf_params[200]\n"
   ]
  },
  {
   "cell_type": "code",
   "execution_count": null,
   "metadata": {},
   "outputs": [],
   "source": [
    "grid_rot = np.array([[-1.20259682, -0.56366559, 0.07526565, 0.71419688, -1.21081504, -0.57188381, 0.0670474, 0.70597866, -1.21903327, -0.5801020, 0.0588292, 0.69776044, -1.22725149, -0.58832026, 0.05061098, 0.68954221],\n",
    " [-0.74833789, -0.66842914, -0.58852039, -0.50861164, -0.24803251, -0.16812376, -0.08821502, -0.00830627, 0.25227286, 0.33218161, 0.41209036, 0.49199911, 0.75257824, 0.83248698, 0.91239573, 0.99230448],\n",
    " [ 1., 1., 1., 1., 1., 1., 1., 1., 1., 1., 1., 1., 1., 1., 1., 1.]])"
   ]
  },
  {
   "cell_type": "code",
   "execution_count": null,
   "metadata": {},
   "outputs": [],
   "source": [
    "width = 5\n",
    "height = 5\n",
    "photo_width = 160\n",
    "photo_height = 120\n",
    "x_ = np.linspace(-1,1,width)\n",
    "y_ = np.linspace(-1,1,height)\n",
    "x_c, y_c = np.meshgrid(x_, y_)\n",
    "x_c = np.reshape(x_c, [-1])\n",
    "y_c = np.reshape(y_c, [-1])\n",
    "ones = np.ones_like(x_c)\n",
    "indices_grid = np.concatenate([x_c, y_c, ones], 0).reshape((3, -1))\n",
    "grid_rot = np.matmul(transf_params[800].reshape((3,3)), indices_grid)\n",
    "x1 = np.min(grid_rot[0])\n",
    "x2 = np.max(grid_rot[0])\n",
    "y1 = np.min(grid_rot[1])\n",
    "y2 = np.max(grid_rot[1])\n",
    "l = x2-x1\n",
    "h = y2-y1\n",
    "pos_x = 10\n",
    "pos_y = 20\n",
    "S = np.array([[photo_width/l, 0, -photo_width*x1/l + pos_x], [0, photo_height/h, -photo_height*y1/h + pos_y], [0, 0, 1]])\n",
    "drawable_grid_rot = np.matmul(S,grid_rot)\n",
    "print drawable_grid_rot"
   ]
  },
  {
   "cell_type": "code",
   "execution_count": null,
   "metadata": {},
   "outputs": [],
   "source": [
    "x_test, y_test = readDataset(\"dataset/test_set\")"
   ]
  },
  {
   "cell_type": "code",
   "execution_count": null,
   "metadata": {},
   "outputs": [],
   "source": [
    "x_test = np.array(x_test).reshape(-1, 180, 240, 1).astype('float32')/1500.\n",
    "res1 = np.squeeze(np.array(stn([x_test])))"
   ]
  },
  {
   "cell_type": "code",
   "execution_count": null,
   "metadata": {
    "scrolled": true
   },
   "outputs": [],
   "source": [
    "img = res1[500]\n",
    "plt.imshow(img, cmap = 'gray')\n",
    "plt.show()"
   ]
  },
  {
   "cell_type": "code",
   "execution_count": null,
   "metadata": {},
   "outputs": [],
   "source": [
    "img2 = x_test[500]\n",
    "plt.imshow(img2.reshape((180,240)), cmap = 'gray')\n",
    "plt.show()"
   ]
  },
  {
   "cell_type": "code",
   "execution_count": null,
   "metadata": {},
   "outputs": [],
   "source": []
  },
  {
   "cell_type": "code",
   "execution_count": null,
   "metadata": {},
   "outputs": [],
   "source": [
    "im = cv2.resize(cv2.imread('dataset/train_set/AldiDx_16bits/Aldidx_1.png', -1), dsize=(photo_width,photo_height), interpolation=cv2.INTER_NEAREST)"
   ]
  },
  {
   "cell_type": "code",
   "execution_count": null,
   "metadata": {},
   "outputs": [],
   "source": [
    "print np.min(im)"
   ]
  },
  {
   "cell_type": "code",
   "execution_count": 68,
   "metadata": {},
   "outputs": [],
   "source": [
    "#-----DATA PREPROCESSING----#\n",
    "\n",
    "\n",
    "#-----Just set to 0 each value under the threshold-----#\n",
    "def threshhold_data(x, thresh):\n",
    "    im = x\n",
    "    im[im < thresh] = 0\n",
    "    return im\n",
    "\n",
    "\n",
    "\n",
    "#-----Some utility methods for data augmentation-----#\n",
    "\n",
    "#-----Makes a random rotation to the image from -30 to 30 degrees-----#\n",
    "def random_rotation(x):\n",
    "    theta = random.randrange(-30,30)\n",
    "    rows, cols, _ = x.shape\n",
    "    M = cv2.getRotationMatrix2D((cols/2,rows/2),theta,1)\n",
    "    dst = cv2.warpAffine(x,M,(cols,rows))\n",
    "    return dst\n",
    "\n",
    "\n",
    "def data_augmentation(x):\n",
    "    from keras import preprocessing\n",
    "    x = x.reshape((photo_height, photo_width, 1))\n",
    "    x = preprocessing.image.random_zoom(x, [0.90, 1.1])\n",
    "    #x = preprocessing.image.random_shear(x, 0.05)\n",
    "    x = preprocessing.image.random_shift(x, 0.2, 0.2)\n",
    "    x = random_rotation(x)\n",
    "    return x\n",
    "\n",
    "\n",
    "#-----Read the dataset for training. Add a target label for each train sample-----#\n",
    "def read_train_set(folderDatasetPath):\n",
    "    import os\n",
    "    \n",
    "    x_set = []\n",
    "    y_set = []\n",
    "    lower = 65000\n",
    "    for root, dirs, files in os.walk(folderDatasetPath, topdown=False): \n",
    "        n = 0\n",
    "        for name in files:\n",
    "            \n",
    "            file = os.path.join(root, name)\n",
    "            if file.lower().endswith(('.png', '.jpg', '.jpeg')):\n",
    "                \n",
    "                #-----Find the relative target for this folder-----#\n",
    "                if file.lower().endswith('target.png'):\n",
    "                    y_r = cv2.imread(file, -1)\n",
    "                    #y = cv2.resize(y_r, dsize=(photo_width,photo_height), interpolation=cv2.INTER_NEAREST)\n",
    "                    y = y_r\n",
    "                    print file\n",
    "                    y = np.max(y)-y\n",
    "                    l = np.max(y)-300\n",
    "                    if l<lower:\n",
    "                        lower = l\n",
    "                    y = threshhold_data(y,l)\n",
    "                    y_set.append(y)\n",
    "        \n",
    "                else:\n",
    "                    \n",
    "                    x_r = cv2.imread(file, -1)\n",
    "                    x = cv2.resize(x_r, dsize=(photo_width,photo_height), interpolation=cv2.INTER_NEAREST)\n",
    "    \n",
    "                    \n",
    "                    x = np.max(x)-x\n",
    "                    l = np.max(x)-300\n",
    "                    if l<lower:\n",
    "                        lower = l\n",
    "                    \n",
    "                    x = threshhold_data(x, l)\n",
    "                    x_set.append(x)\n",
    "                    #for i in range(2):\n",
    "                        #x_set.append(data_augmentation(x))\n",
    "                    n += 1\n",
    "                    \n",
    "                    \n",
    "        #-----Now we add the target label for each train sample-----#\n",
    "        for i in range(n-1):\n",
    "            if y_set:\n",
    "                y_set.append(y_set[len(y_set)-1])\n",
    "    \n",
    "    \n",
    "    #---Prepare the data for fitting, normalizing in [0,1]. To the background is associated 0 (black), to the foreground 1---#\n",
    "    #---We normalize respect to the max value of intensity (depth) of the whole dataset to preserve the depth information in each photo---#\n",
    "    X = np.array(x_set).reshape((-1, photo_height, photo_width, 1)).astype('float32')\n",
    "    y = np.array(y_set).reshape((-1, photo_height, photo_width, 1)).astype('float32')\n",
    "    X = (X - lower).astype('float32')/(np.max(X)-lower).astype('float32')\n",
    "    X[X < 0] = 0\n",
    "    y = (y - lower).astype('float32')/(np.max(y)-lower).astype('float32')\n",
    "    y[y < 0] = 0\n",
    "    \n",
    "    #----Prepare the validation set----#\n",
    "    n_val_examples = len(X)/10\n",
    "    val_indexes = random.sample([i for i in range(len(X))], n_val_examples)\n",
    "    X_val = X[val_indexes]\n",
    "    y_val = y[val_indexes]\n",
    "    X = np.delete(X, val_indexes, axis=0)\n",
    "    y = np.delete(y, val_indexes, axis=0)\n",
    "    return X, y, X_val, y_val"
   ]
  },
  {
   "cell_type": "code",
   "execution_count": 69,
   "metadata": {},
   "outputs": [
    {
     "name": "stdout",
     "output_type": "stream",
     "text": [
      "dataset/train_set/AldiDx_16bits/Target.png\n",
      "dataset/train_set/AldiSx_16bits/Target.png\n",
      "dataset/train_set/BellaDx_16bits/Target.png\n",
      "dataset/train_set/BellaSx_16bits/Target.png\n",
      "Train tensor shape:  (8718, 240, 320, 1)\n",
      "Validation tensor shape:  (968, 240, 320, 1)\n"
     ]
    }
   ],
   "source": [
    "#-----LOAD DATASET-----#\n",
    "X, y, X_val, y_val = read_train_set(\"dataset/train_set\")\n",
    "print \"Train tensor shape: \", X.shape\n",
    "print \"Validation tensor shape: \", X_val.shape"
   ]
  },
  {
   "cell_type": "code",
   "execution_count": 70,
   "metadata": {
    "scrolled": true
   },
   "outputs": [
    {
     "data": {
      "image/png": "[encoded data removed]",
      "text/plain": [
       "<Figure size 432x288 with 1 Axes>"
      ]
     },
     "metadata": {},
     "output_type": "display_data"
    },
    {
     "name": "stdout",
     "output_type": "stream",
     "text": [
      "0.0 1.0\n"
     ]
    }
   ],
   "source": [
    "img2 = y[300]\n",
    "plt.imshow(img2.reshape((240,320)), cmap = 'gray', vmin=0, vmax=1)\n",
    "plt.show()\n",
    "print np.min(img2), np.max(img2)"
   ]
  },
  {
   "cell_type": "code",
   "execution_count": null,
   "metadata": {},
   "outputs": [],
   "source": [
    "from PIL import Image, ImageDraw, ImageShow\n",
    "print np.max(Image.fromarray(X[654].reshape(photo_height, photo_width)*255.))\n",
    "plt.imshow(Image.fromarray(X[654].reshape(photo_height, photo_width)*255.))\n",
    "plt.show()"
   ]
  },
  {
   "cell_type": "code",
   "execution_count": null,
   "metadata": {},
   "outputs": [],
   "source": []
  },
  {
   "cell_type": "code",
   "execution_count": null,
   "metadata": {},
   "outputs": [],
   "source": []
  }
 ],
 "metadata": {
  "kernelspec": {
   "display_name": "Python 2",
   "language": "python",
   "name": "python2"
  },
  "language_info": {
   "codemirror_mode": {
    "name": "ipython",
    "version": 2
   },
   "file_extension": ".py",
   "mimetype": "text/x-python",
   "name": "python",
   "nbconvert_exporter": "python",
   "pygments_lexer": "ipython2",
   "version": "2.7.14"
  }
 },
 "nbformat": 4,
 "nbformat_minor": 2
}
