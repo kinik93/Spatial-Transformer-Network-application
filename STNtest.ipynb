{
 "cells": [
  {
   "cell_type": "code",
   "execution_count": 1,
   "metadata": {
    "scrolled": true
   },
   "outputs": [
    {
     "name": "stderr",
     "output_type": "stream",
     "text": [
      "/Users/tommasoaldinucci/miniconda2/lib/python2.7/site-packages/h5py/__init__.py:36: FutureWarning: Conversion of the second argument of issubdtype from `float` to `np.floating` is deprecated. In future, it will be treated as `np.float64 == np.dtype(float).type`.\n",
      "  from ._conv import register_converters as _register_converters\n",
      "Using TensorFlow backend.\n"
     ]
    }
   ],
   "source": [
    "%matplotlib inline\n",
    "#-----Dependencies-----#\n",
    "\n",
    "import matplotlib.pyplot as plt\n",
    "import numpy as np\n",
    "import keras\n",
    "np.random.seed(1337)  # for reproducibility\n",
    "from keras.models import Sequential\n",
    "from keras.layers.core import Dense, Dropout, Activation, Flatten\n",
    "from keras.layers.convolutional import Convolution2D, MaxPooling2D\n",
    "from keras.optimizers import Adam, SGD\n",
    "import keras.backend as K\n",
    "from spatial_transformer import SpatialTransformer\n",
    "import cv2\n",
    "import random\n",
    "\n",
    "#-----Define global variables-----#\n",
    "batch_size = 64\n",
    "photo_width = 320\n",
    "photo_height = 240"
   ]
  },
  {
   "cell_type": "code",
   "execution_count": 2,
   "metadata": {},
   "outputs": [
    {
     "name": "stdout",
     "output_type": "stream",
     "text": [
      "_________________________________________________________________\n",
      "Layer (type)                 Output Shape              Param #   \n",
      "=================================================================\n",
      "conv2d_1 (Conv2D)            (None, 240, 320, 20)      200       \n",
      "_________________________________________________________________\n",
      "activation_1 (Activation)    (None, 240, 320, 20)      0         \n",
      "_________________________________________________________________\n",
      "max_pooling2d_1 (MaxPooling2 (None, 120, 160, 20)      0         \n",
      "_________________________________________________________________\n",
      "conv2d_2 (Conv2D)            (None, 120, 160, 20)      3620      \n",
      "_________________________________________________________________\n",
      "activation_2 (Activation)    (None, 120, 160, 20)      0         \n",
      "_________________________________________________________________\n",
      "max_pooling2d_2 (MaxPooling2 (None, 60, 80, 20)        0         \n",
      "_________________________________________________________________\n",
      "conv2d_3 (Conv2D)            (None, 60, 80, 20)        3620      \n",
      "_________________________________________________________________\n",
      "activation_3 (Activation)    (None, 60, 80, 20)        0         \n",
      "_________________________________________________________________\n",
      "max_pooling2d_3 (MaxPooling2 (None, 30, 40, 20)        0         \n",
      "_________________________________________________________________\n",
      "flatten_1 (Flatten)          (None, 24000)             0         \n",
      "_________________________________________________________________\n",
      "dense_1 (Dense)              (None, 9)                 216009    \n",
      "_________________________________________________________________\n",
      "activation_4 (Activation)    (None, 9)                 0         \n",
      "=================================================================\n",
      "Total params: 223,449\n",
      "Trainable params: 223,449\n",
      "Non-trainable params: 0\n",
      "_________________________________________________________________\n",
      "_________________________________________________________________\n",
      "Layer (type)                 Output Shape              Param #   \n",
      "=================================================================\n",
      "spatial_transformer_1 (Spati (None, 240, 320, 1)       223449    \n",
      "=================================================================\n",
      "Total params: 223,449\n",
      "Trainable params: 223,449\n",
      "Non-trainable params: 0\n",
      "_________________________________________________________________\n"
     ]
    }
   ],
   "source": [
    "#-------BUILDING THE NETWORK-------#\n",
    "\n",
    "input_shape = (photo_height, photo_width, 1)\n",
    "\n",
    "# initial weights for last layer of localisation\n",
    "#----At the beginning, we start with the identity transformation----#\n",
    "b = np.zeros((3, 3), dtype='float32')\n",
    "b[0, 0] = 1\n",
    "b[1, 1] = 1\n",
    "b[2, 2] = 1\n",
    "W = np.zeros((int(photo_width/8)*int(photo_height/8)*20, 9), dtype='float32')\n",
    "weights = [W, b.flatten()]\n",
    "\n",
    "\n",
    "#-----We use just linear activation (identity function) to avoid non linear behavior of the CNN----#\n",
    "#-----This is recommended for STN-----#\n",
    "\n",
    "#-----First define the Localisation Network which will output 9 parameters for the projective transformation-----#\n",
    "locnet = Sequential()\n",
    "locnet.add(Convolution2D(20, (3, 3), input_shape = input_shape, padding='same'))\n",
    "locnet.add(Activation('linear'))\n",
    "locnet.add(MaxPooling2D(pool_size=(2,2)))\n",
    "locnet.add(Convolution2D(20, (3, 3), padding='same'))\n",
    "locnet.add(Activation('linear'))\n",
    "locnet.add(MaxPooling2D(pool_size=(2,2)))\n",
    "locnet.add(Convolution2D(20, (3, 3), padding='same'))\n",
    "locnet.add(Activation('linear'))\n",
    "locnet.add(MaxPooling2D(pool_size=(2,2)))\n",
    "locnet.add(Flatten())\n",
    "locnet.add(Dense(9, weights=weights))\n",
    "locnet.add(Activation('linear'))\n",
    "\n",
    "\n",
    "#-----Now we add the STN layer which will output the transformed image-----#\n",
    "transf1 = Sequential()\n",
    "transf1.add(SpatialTransformer(localization_net=locnet, output_size=(photo_height, photo_width, 1), input_shape=input_shape))\n",
    "sgd = SGD(lr=0.01, decay=1e-6, momentum=0.9, nesterov=True)\n",
    "transf1.compile(loss='mae', optimizer=sgd, metrics=['mse'])\n",
    "locnet.summary()\n",
    "transf1.summary()"
   ]
  },
  {
   "cell_type": "code",
   "execution_count": 3,
   "metadata": {},
   "outputs": [],
   "source": [
    "transf1.load_weights('weights_last.h5')"
   ]
  },
  {
   "cell_type": "code",
   "execution_count": 4,
   "metadata": {},
   "outputs": [],
   "source": [
    "def threshhold_data(x, thresh, value):\n",
    "    im = x\n",
    "    im[im > thresh] = value\n",
    "    return im\n",
    "\n",
    "\n",
    "#-----Read the testset-----#\n",
    "def read_test_set(folderDatasetPath):\n",
    "    import os\n",
    "    \n",
    "    x_set = []\n",
    "    y_set = []\n",
    "\n",
    "    for root, dirs, files in os.walk(folderDatasetPath, topdown=False): \n",
    "        for name in files:\n",
    "            \n",
    "            file = os.path.join(root, name)\n",
    "            if file.lower().endswith(('.png', '.jpg', '.jpeg')): \n",
    "                \n",
    "                x_r = cv2.imread(file, -1)\n",
    "                x = cv2.resize(x_r, dsize=(photo_width,photo_height), interpolation=cv2.INTER_NEAREST)\n",
    "                thresh = np.min(x)+300  \n",
    "                x = threshhold_data(x, thresh, thresh)\n",
    "                x = (x-np.min(x))/300.\n",
    "                x_set.append(x)\n",
    "                    \n",
    "    \n",
    "    \n",
    "    #---Prepare the data normalizing in [0,1]. To the background is associated 0 (black), to the foreground 1---#\n",
    "    #---We normalize respect to the max value of intensity (depth) of each image to preserve the depth information relative to each photo---#\n",
    "    X_test = np.array(x_set).reshape((-1, photo_height, photo_width, 1)).astype('float32')\n",
    "    X_test = 1 - X_test\n",
    "    \n",
    "    return np.array(X_test)\n",
    "\n",
    "\n"
   ]
  },
  {
   "cell_type": "code",
   "execution_count": 13,
   "metadata": {},
   "outputs": [
    {
     "name": "stdout",
     "output_type": "stream",
     "text": [
      "('Shape of the test tensor: ', (984, 240, 320, 1))\n"
     ]
    }
   ],
   "source": [
    "#----Read the test_set-----#\n",
    "\n",
    "X_test = read_test_set(\"dataset/test_set\")\n",
    "print \"Shape of the test tensor: \", X_test.shape"
   ]
  },
  {
   "cell_type": "code",
   "execution_count": 10,
   "metadata": {},
   "outputs": [
    {
     "data": {
      "image/png": "[encoded data removed]",
      "text/plain": [
       "<Figure size 432x288 with 1 Axes>"
      ]
     },
     "metadata": {},
     "output_type": "display_data"
    },
    {
     "name": "stdout",
     "output_type": "stream",
     "text": [
      "0.0\n",
      "1.0\n"
     ]
    }
   ],
   "source": [
    "p_index = 331\n",
    "plt.imshow(X_test[p_index].reshape((photo_height,photo_width)), cmap='gray', vmin=0, vmax=1)\n",
    "plt.show()"
   ]
  },
  {
   "cell_type": "code",
   "execution_count": 7,
   "metadata": {
    "scrolled": false
   },
   "outputs": [],
   "source": [
    "predicts = transf1.predict(X_test)"
   ]
  },
  {
   "cell_type": "code",
   "execution_count": 11,
   "metadata": {
    "scrolled": false
   },
   "outputs": [
    {
     "data": {
      "image/png": "[encoded data removed]",
      "text/plain": [
       "<Figure size 432x288 with 1 Axes>"
      ]
     },
     "metadata": {},
     "output_type": "display_data"
    },
    {
     "name": "stdout",
     "output_type": "stream",
     "text": [
      "0.0 0.942043\n"
     ]
    }
   ],
   "source": [
    "plt.imshow(predicts[p_index].reshape((photo_height,photo_width)), cmap='gray', vmin=0, vmax=1)\n",
    "plt.show()"
   ]
  }
 ],
 "metadata": {
  "kernelspec": {
   "display_name": "Python 2",
   "language": "python",
   "name": "python2"
  },
  "language_info": {
   "codemirror_mode": {
    "name": "ipython",
    "version": 2
   },
   "file_extension": ".py",
   "mimetype": "text/x-python",
   "name": "python",
   "nbconvert_exporter": "python",
   "pygments_lexer": "ipython2",
   "version": "2.7.14"
  }
 },
 "nbformat": 4,
 "nbformat_minor": 2
}
